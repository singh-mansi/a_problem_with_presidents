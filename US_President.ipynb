{
  "nbformat": 4,
  "nbformat_minor": 0,
  "metadata": {
    "colab": {
      "provenance": []
    },
    "kernelspec": {
      "name": "python3",
      "display_name": "Python 3"
    },
    "language_info": {
      "name": "python"
    }
  },
  "cells": [
    {
      "cell_type": "code",
      "execution_count": 1,
      "metadata": {
        "id": "a8WRFqcxp5_F"
      },
      "outputs": [],
      "source": [
        "import pandas as pd\n",
        "import numpy as np\n",
        "import matplotlib.pyplot as plt"
      ]
    },
    {
      "cell_type": "code",
      "source": [
        "# Load the dataset\n",
        "data = pd.read_csv('/content/sample_data/U.S. Presidents Birth and Death Information - Sheet1.csv')\n",
        "\n",
        "# Convert birth_date and death_date columns to datetime objects\n",
        "data['BIRTH DATE'] = pd.to_datetime(data['BIRTH DATE'])\n",
        "data['DEATH DATE'] = pd.to_datetime(data['DEATH DATE'])\n",
        "\n",
        "# Calculate year of birth\n",
        "data['year_of_birth'] = data['BIRTH DATE'].dt.year\n",
        "\n",
        "# Calculate lived_years, lived_months, lived_days for each president\n",
        "data['lived_years'] = (data['DEATH DATE'] - data['BIRTH DATE']).dt.days / 365.00\n",
        "data['lived_months'] = (data['DEATH DATE'] - data['BIRTH DATE']).dt.days / 30.00\n",
        "data['lived_days'] = (data['DEATH DATE'] - data['BIRTH DATE']).dt.days\n"
      ],
      "metadata": {
        "id": "B6DjkRTXqNwp"
      },
      "execution_count": 2,
      "outputs": []
    },
    {
      "cell_type": "code",
      "source": [
        "# Sort the data by lived_days in descending order and select top 10 longest lived presidents\n",
        "top_10_longest_lived = data.nlargest(10, 'lived_days')[['PRESIDENT', 'lived_years', 'lived_months', 'lived_days']]\n",
        "\n",
        "# Sort the data by lived_days in ascending order and select top 10 shortest lived presidents\n",
        "top_10_shortest_lived = data.nsmallest(10, 'lived_days')[['PRESIDENT', 'lived_years', 'lived_months', 'lived_days']]\n"
      ],
      "metadata": {
        "id": "g8PFofa6qpWr"
      },
      "execution_count": 3,
      "outputs": []
    },
    {
      "cell_type": "code",
      "source": [
        "from tabulate import tabulate\n",
        "\n",
        "print(\"Top 10 Longest Lived Presidents:\")\n",
        "print(tabulate(top_10_longest_lived, headers='keys', tablefmt='grid', showindex=False))\n"
      ],
      "metadata": {
        "colab": {
          "base_uri": "https://localhost:8080/"
        },
        "id": "ZBo8qPh0rXoc",
        "outputId": "c5c8f608-6866-448e-eb51-8898352e01da"
      },
      "execution_count": 11,
      "outputs": [
        {
          "output_type": "stream",
          "name": "stdout",
          "text": [
            "Top 10 Longest Lived Presidents:\n",
            "+-------------------+---------------+----------------+--------------+\n",
            "| PRESIDENT         |   lived_years |   lived_months |   lived_days |\n",
            "+===================+===============+================+==============+\n",
            "| George Bush       |       94.5315 |       1150.13  |        34504 |\n",
            "+-------------------+---------------+----------------+--------------+\n",
            "| Gerald Ford       |       93.5151 |       1137.77  |        34133 |\n",
            "+-------------------+---------------+----------------+--------------+\n",
            "| Ronald Reagan     |       93.3918 |       1136.27  |        34088 |\n",
            "+-------------------+---------------+----------------+--------------+\n",
            "| John Adams        |       90.737  |       1103.97  |        33119 |\n",
            "+-------------------+---------------+----------------+--------------+\n",
            "| Herbert Hoover    |       90.2548 |       1098.1   |        32943 |\n",
            "+-------------------+---------------+----------------+--------------+\n",
            "| Harry S. Truman   |       88.6932 |       1079.1   |        32373 |\n",
            "+-------------------+---------------+----------------+--------------+\n",
            "| James Madison     |       85.3425 |       1038.33  |        31150 |\n",
            "+-------------------+---------------+----------------+--------------+\n",
            "| Thomas Jefferson  |       83.2795 |       1013.23  |        30397 |\n",
            "+-------------------+---------------+----------------+--------------+\n",
            "| Richard Nixon     |       81.337  |        989.6   |        29688 |\n",
            "+-------------------+---------------+----------------+--------------+\n",
            "| John Quincy Adams |       80.674  |        981.533 |        29446 |\n",
            "+-------------------+---------------+----------------+--------------+\n"
          ]
        }
      ]
    },
    {
      "cell_type": "code",
      "source": [
        "summary_longest_lived = top_10_longest_lived.describe()\n",
        "print(summary_longest_lived)"
      ],
      "metadata": {
        "colab": {
          "base_uri": "https://localhost:8080/"
        },
        "id": "5rPGqzA3uLXt",
        "outputId": "51105c0f-1c40-442a-ff0d-03e9f6238ef0"
      },
      "execution_count": 15,
      "outputs": [
        {
          "output_type": "stream",
          "name": "stdout",
          "text": [
            "       lived_years  lived_months    lived_days\n",
            "count    10.000000     10.000000     10.000000\n",
            "mean     88.175616   1072.803333  32184.100000\n",
            "std       5.188744     63.129720   1893.891611\n",
            "min      80.673973    981.533333  29446.000000\n",
            "25%      83.795205   1019.508333  30585.250000\n",
            "50%      89.473973   1088.600000  32658.000000\n",
            "75%      92.728082   1128.191667  33845.750000\n",
            "max      94.531507   1150.133333  34504.000000\n"
          ]
        }
      ]
    },
    {
      "cell_type": "code",
      "source": [
        "print(\"\\nTop 10 Shortest Lived Presidents:\")\n",
        "print(tabulate(top_10_shortest_lived, headers='keys', tablefmt='grid', showindex=False))"
      ],
      "metadata": {
        "colab": {
          "base_uri": "https://localhost:8080/"
        },
        "id": "OE_WuttKra3i",
        "outputId": "41d8f502-9382-42a5-d5e6-840cd22d5d12"
      },
      "execution_count": 12,
      "outputs": [
        {
          "output_type": "stream",
          "name": "stdout",
          "text": [
            "\n",
            "Top 10 Shortest Lived Presidents:\n",
            "+--------------------+---------------+----------------+--------------+\n",
            "| PRESIDENT          |   lived_years |   lived_months |   lived_days |\n",
            "+====================+===============+================+==============+\n",
            "| John F. Kennedy    |       46.5151 |        565.933 |        16978 |\n",
            "+--------------------+---------------+----------------+--------------+\n",
            "| James A. Garfield  |       49.8685 |        606.733 |        18202 |\n",
            "+--------------------+---------------+----------------+--------------+\n",
            "| James K. Polk      |       53.6521 |        652.767 |        19583 |\n",
            "+--------------------+---------------+----------------+--------------+\n",
            "| Abraham Lincoln    |       56.2082 |        683.867 |        20516 |\n",
            "+--------------------+---------------+----------------+--------------+\n",
            "| Chester Arthur     |       57.1589 |        695.433 |        20863 |\n",
            "+--------------------+---------------+----------------+--------------+\n",
            "| Warren G. Harding  |       57.7836 |        703.033 |        21091 |\n",
            "+--------------------+---------------+----------------+--------------+\n",
            "| William McKinley   |       58.663  |        713.733 |        21412 |\n",
            "+--------------------+---------------+----------------+--------------+\n",
            "| Theodore Roosevelt |       60.2329 |        732.833 |        21985 |\n",
            "+--------------------+---------------+----------------+--------------+\n",
            "| Calvin Coolidge    |       60.5452 |        736.633 |        22099 |\n",
            "+--------------------+---------------+----------------+--------------+\n",
            "| Franklin Roosevelt |       63.2384 |        769.4   |        23082 |\n",
            "+--------------------+---------------+----------------+--------------+\n"
          ]
        }
      ]
    },
    {
      "cell_type": "code",
      "source": [
        "summary_shortest_lived = top_10_shortest_lived.describe()\n",
        "print(summary_shortest_lived)"
      ],
      "metadata": {
        "colab": {
          "base_uri": "https://localhost:8080/"
        },
        "id": "1PhYcgD-w3QB",
        "outputId": "e4b82ece-5a2a-4ad3-a5d6-6dad435eb050"
      },
      "execution_count": 16,
      "outputs": [
        {
          "output_type": "stream",
          "name": "stdout",
          "text": [
            "       lived_years  lived_months    lived_days\n",
            "count    10.000000     10.000000     10.000000\n",
            "mean     56.386575    686.036667  20581.100000\n",
            "std       5.101272     62.065482   1861.964461\n",
            "min      46.515068    565.933333  16978.000000\n",
            "25%      54.291096    660.541667  19816.250000\n",
            "50%      57.471233    699.233333  20977.000000\n",
            "75%      59.840411    728.058333  21841.750000\n",
            "max      63.238356    769.400000  23082.000000\n"
          ]
        }
      ]
    },
    {
      "cell_type": "code",
      "source": [
        "# Calculate summary statistics for lived_days\n",
        "mean_lived_days = data['lived_days'].mean()\n",
        "median_lived_days = data['lived_days'].median()\n",
        "mode_lived_days = data['lived_days'].mode().iloc[0]\n",
        "max_lived_days = data['lived_days'].max()\n",
        "min_lived_days = data['lived_days'].min()\n",
        "std_lived_days = data['lived_days'].std()\n"
      ],
      "metadata": {
        "id": "3CbCdodCqwGZ"
      },
      "execution_count": 6,
      "outputs": []
    },
    {
      "cell_type": "code",
      "source": [
        "summary_data = {\n",
        "    \"Summary Measure\": [\"Mean\", \"Median\", \"Mode\", \"Max\", \"Min\", \"Standard Deviation\"],\n",
        "    \"Lived Days\": [mean_lived_days, median_lived_days, mode_lived_days, max_lived_days, min_lived_days, std_lived_days]\n",
        "}\n",
        "summary_df = pd.DataFrame(summary_data)\n",
        "\n",
        "print(\"Summary Statistics for Lived Days:\")\n",
        "print(tabulate(summary_df, headers='keys', tablefmt='grid', showindex=False))\n"
      ],
      "metadata": {
        "colab": {
          "base_uri": "https://localhost:8080/"
        },
        "id": "IQGwjd6Pr24T",
        "outputId": "8918fce4-796d-45ac-cb6d-4fec8a630551"
      },
      "execution_count": 13,
      "outputs": [
        {
          "output_type": "stream",
          "name": "stdout",
          "text": [
            "Summary Statistics for Lived Days:\n",
            "+--------------------+--------------+\n",
            "| Summary Measure    |   Lived Days |\n",
            "+====================+==============+\n",
            "| Mean               |     26097.2  |\n",
            "+--------------------+--------------+\n",
            "| Median             |     25673    |\n",
            "+--------------------+--------------+\n",
            "| Mode               |     16978    |\n",
            "+--------------------+--------------+\n",
            "| Max                |     34504    |\n",
            "+--------------------+--------------+\n",
            "| Min                |     16978    |\n",
            "+--------------------+--------------+\n",
            "| Standard Deviation |      4596.07 |\n",
            "+--------------------+--------------+\n"
          ]
        }
      ]
    },
    {
      "cell_type": "code",
      "source": [
        "plt.figure(figsize=(8,6))\n",
        "plt.hist(data['lived_days'], bins=20, edgecolor='black')\n",
        "plt.xlabel('Days Lived')\n",
        "plt.ylabel('Frequency')\n",
        "plt.title('Distribution of Days Lived by Presidents')\n",
        "plt.grid(True)\n",
        "plt.show()\n"
      ],
      "metadata": {
        "colab": {
          "base_uri": "https://localhost:8080/",
          "height": 564
        },
        "id": "YS6e__Hqq1UA",
        "outputId": "ae91bae0-3873-4135-b635-b8f3279f29f4"
      },
      "execution_count": 8,
      "outputs": [
        {
          "output_type": "display_data",
          "data": {
            "text/plain": [
              "<Figure size 800x600 with 1 Axes>"
            ],
            "image/png": "[encoded data removed]"
          },
          "metadata": {}
        }
      ]
    }
  ]
}